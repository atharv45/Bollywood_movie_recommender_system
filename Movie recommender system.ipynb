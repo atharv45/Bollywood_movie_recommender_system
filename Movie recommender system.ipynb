{
 "cells": [
  {
   "cell_type": "code",
   "execution_count": 1,
   "id": "relative-norwegian",
   "metadata": {},
   "outputs": [],
   "source": [
    "import pandas as pd\n",
    "import numpy as np\n",
    "import matplotlib.pyplot as plt"
   ]
  },
  {
   "cell_type": "code",
   "execution_count": 2,
   "id": "quality-christianity",
   "metadata": {},
   "outputs": [],
   "source": [
    "movies = pd.read_csv('bollywood_full.csv')"
   ]
  },
  {
   "cell_type": "code",
   "execution_count": 3,
   "id": "treated-ireland",
   "metadata": {},
   "outputs": [
    {
     "data": {
      "text/html": [
       "<div>\n",
       "<style scoped>\n",
       "    .dataframe tbody tr th:only-of-type {\n",
       "        vertical-align: middle;\n",
       "    }\n",
       "\n",
       "    .dataframe tbody tr th {\n",
       "        vertical-align: top;\n",
       "    }\n",
       "\n",
       "    .dataframe thead th {\n",
       "        text-align: right;\n",
       "    }\n",
       "</style>\n",
       "<table border=\"1\" class=\"dataframe\">\n",
       "  <thead>\n",
       "    <tr style=\"text-align: right;\">\n",
       "      <th></th>\n",
       "      <th>title_x</th>\n",
       "      <th>imdb_id</th>\n",
       "      <th>poster_path</th>\n",
       "      <th>wiki_link</th>\n",
       "      <th>title_y</th>\n",
       "      <th>original_title</th>\n",
       "      <th>is_adult</th>\n",
       "      <th>year_of_release</th>\n",
       "      <th>runtime</th>\n",
       "      <th>genres</th>\n",
       "      <th>imdb_rating</th>\n",
       "      <th>imdb_votes</th>\n",
       "      <th>story</th>\n",
       "      <th>summary</th>\n",
       "      <th>tagline</th>\n",
       "      <th>actors</th>\n",
       "      <th>wins_nominations</th>\n",
       "      <th>release_date</th>\n",
       "    </tr>\n",
       "  </thead>\n",
       "  <tbody>\n",
       "    <tr>\n",
       "      <th>0</th>\n",
       "      <td>Uri: The Surgical Strike</td>\n",
       "      <td>tt8291224</td>\n",
       "      <td>https://upload.wikimedia.org/wikipedia/en/thum...</td>\n",
       "      <td>https://en.wikipedia.org/wiki/Uri:_The_Surgica...</td>\n",
       "      <td>Uri: The Surgical Strike</td>\n",
       "      <td>Uri: The Surgical Strike</td>\n",
       "      <td>0</td>\n",
       "      <td>2019</td>\n",
       "      <td>138</td>\n",
       "      <td>Action|Drama|War</td>\n",
       "      <td>8.4</td>\n",
       "      <td>35112.0</td>\n",
       "      <td>Divided over five chapters  the film chronicle...</td>\n",
       "      <td>Indian army special forces execute a covert op...</td>\n",
       "      <td>NaN</td>\n",
       "      <td>Vicky Kaushal|Paresh Rawal|Mohit Raina|Yami Ga...</td>\n",
       "      <td>4 wins</td>\n",
       "      <td>11 January 2019 (USA)</td>\n",
       "    </tr>\n",
       "    <tr>\n",
       "      <th>1</th>\n",
       "      <td>Battalion 609</td>\n",
       "      <td>tt9472208</td>\n",
       "      <td>NaN</td>\n",
       "      <td>https://en.wikipedia.org/wiki/Battalion_609</td>\n",
       "      <td>Battalion 609</td>\n",
       "      <td>Battalion 609</td>\n",
       "      <td>0</td>\n",
       "      <td>2019</td>\n",
       "      <td>131</td>\n",
       "      <td>War</td>\n",
       "      <td>4.1</td>\n",
       "      <td>73.0</td>\n",
       "      <td>The story revolves around a cricket match betw...</td>\n",
       "      <td>The story of Battalion 609 revolves around a c...</td>\n",
       "      <td>NaN</td>\n",
       "      <td>Vicky Ahuja|Shoaib Ibrahim|Shrikant Kamat|Elen...</td>\n",
       "      <td>NaN</td>\n",
       "      <td>11 January 2019 (India)</td>\n",
       "    </tr>\n",
       "    <tr>\n",
       "      <th>2</th>\n",
       "      <td>The Accidental Prime Minister (film)</td>\n",
       "      <td>tt6986710</td>\n",
       "      <td>https://upload.wikimedia.org/wikipedia/en/thum...</td>\n",
       "      <td>https://en.wikipedia.org/wiki/The_Accidental_P...</td>\n",
       "      <td>The Accidental Prime Minister</td>\n",
       "      <td>The Accidental Prime Minister</td>\n",
       "      <td>0</td>\n",
       "      <td>2019</td>\n",
       "      <td>112</td>\n",
       "      <td>Biography|Drama</td>\n",
       "      <td>6.1</td>\n",
       "      <td>5549.0</td>\n",
       "      <td>Based on the memoir by Indian policy analyst S...</td>\n",
       "      <td>Explores Manmohan Singh's tenure as the Prime ...</td>\n",
       "      <td>NaN</td>\n",
       "      <td>Anupam Kher|Akshaye Khanna|Aahana Kumra|Atul S...</td>\n",
       "      <td>NaN</td>\n",
       "      <td>11 January 2019 (USA)</td>\n",
       "    </tr>\n",
       "  </tbody>\n",
       "</table>\n",
       "</div>"
      ],
      "text/plain": [
       "                                title_x    imdb_id  \\\n",
       "0              Uri: The Surgical Strike  tt8291224   \n",
       "1                         Battalion 609  tt9472208   \n",
       "2  The Accidental Prime Minister (film)  tt6986710   \n",
       "\n",
       "                                         poster_path  \\\n",
       "0  https://upload.wikimedia.org/wikipedia/en/thum...   \n",
       "1                                                NaN   \n",
       "2  https://upload.wikimedia.org/wikipedia/en/thum...   \n",
       "\n",
       "                                           wiki_link  \\\n",
       "0  https://en.wikipedia.org/wiki/Uri:_The_Surgica...   \n",
       "1        https://en.wikipedia.org/wiki/Battalion_609   \n",
       "2  https://en.wikipedia.org/wiki/The_Accidental_P...   \n",
       "\n",
       "                         title_y                 original_title  is_adult  \\\n",
       "0       Uri: The Surgical Strike       Uri: The Surgical Strike         0   \n",
       "1                  Battalion 609                  Battalion 609         0   \n",
       "2  The Accidental Prime Minister  The Accidental Prime Minister         0   \n",
       "\n",
       "  year_of_release runtime            genres  imdb_rating  imdb_votes  \\\n",
       "0            2019     138  Action|Drama|War          8.4     35112.0   \n",
       "1            2019     131               War          4.1        73.0   \n",
       "2            2019     112   Biography|Drama          6.1      5549.0   \n",
       "\n",
       "                                               story  \\\n",
       "0  Divided over five chapters  the film chronicle...   \n",
       "1  The story revolves around a cricket match betw...   \n",
       "2  Based on the memoir by Indian policy analyst S...   \n",
       "\n",
       "                                             summary tagline  \\\n",
       "0  Indian army special forces execute a covert op...     NaN   \n",
       "1  The story of Battalion 609 revolves around a c...     NaN   \n",
       "2  Explores Manmohan Singh's tenure as the Prime ...     NaN   \n",
       "\n",
       "                                              actors wins_nominations  \\\n",
       "0  Vicky Kaushal|Paresh Rawal|Mohit Raina|Yami Ga...           4 wins   \n",
       "1  Vicky Ahuja|Shoaib Ibrahim|Shrikant Kamat|Elen...              NaN   \n",
       "2  Anupam Kher|Akshaye Khanna|Aahana Kumra|Atul S...              NaN   \n",
       "\n",
       "              release_date  \n",
       "0    11 January 2019 (USA)  \n",
       "1  11 January 2019 (India)  \n",
       "2    11 January 2019 (USA)  "
      ]
     },
     "execution_count": 3,
     "metadata": {},
     "output_type": "execute_result"
    }
   ],
   "source": [
    "movies.head(3)"
   ]
  },
  {
   "cell_type": "code",
   "execution_count": null,
   "id": "fuzzy-circuit",
   "metadata": {},
   "outputs": [],
   "source": []
  },
  {
   "cell_type": "code",
   "execution_count": 4,
   "id": "latter-cornell",
   "metadata": {},
   "outputs": [
    {
     "name": "stdout",
     "output_type": "stream",
     "text": [
      "(4330, 18)\n"
     ]
    }
   ],
   "source": [
    "print(movies.shape)"
   ]
  },
  {
   "cell_type": "code",
   "execution_count": 5,
   "id": "close-fever",
   "metadata": {},
   "outputs": [
    {
     "data": {
      "text/plain": [
       "'https://en.wikipedia.org/wiki/Uri:_The_Surgical_Strike'"
      ]
     },
     "execution_count": 5,
     "metadata": {},
     "output_type": "execute_result"
    }
   ],
   "source": [
    "movies.iloc[0]['wiki_link']"
   ]
  },
  {
   "cell_type": "code",
   "execution_count": 6,
   "id": "coupled-original",
   "metadata": {},
   "outputs": [
    {
     "data": {
      "text/plain": [
       "'Divided over five chapters  the film chronicles the events of the surgical strike conducted by the Indian military against suspected militants in Pakistan occupied Kashmir. It tells the story of the 11 tumultuous events over which the operation was carried out. Indian army special forces carry out a covert operation to avenge the killing of fellow army men at their base by a terrorist group.'"
      ]
     },
     "execution_count": 6,
     "metadata": {},
     "output_type": "execute_result"
    }
   ],
   "source": [
    "movies.iloc[0]['story']"
   ]
  },
  {
   "cell_type": "code",
   "execution_count": 7,
   "id": "serious-brunei",
   "metadata": {},
   "outputs": [
    {
     "data": {
      "text/plain": [
       "'Indian army special forces execute a covert operation  avenging the killing of fellow army men at their base by a terrorist group.'"
      ]
     },
     "execution_count": 7,
     "metadata": {},
     "output_type": "execute_result"
    }
   ],
   "source": [
    "movies.iloc[0]['summary']"
   ]
  },
  {
   "cell_type": "code",
   "execution_count": 8,
   "id": "legendary-copyright",
   "metadata": {},
   "outputs": [
    {
     "name": "stdout",
     "output_type": "stream",
     "text": [
      "<class 'pandas.core.frame.DataFrame'>\n",
      "RangeIndex: 4330 entries, 0 to 4329\n",
      "Data columns (total 18 columns):\n",
      " #   Column            Non-Null Count  Dtype  \n",
      "---  ------            --------------  -----  \n",
      " 0   title_x           4330 non-null   object \n",
      " 1   imdb_id           4330 non-null   object \n",
      " 2   poster_path       3580 non-null   object \n",
      " 3   wiki_link         4330 non-null   object \n",
      " 4   title_y           4330 non-null   object \n",
      " 5   original_title    4330 non-null   object \n",
      " 6   is_adult          4330 non-null   int64  \n",
      " 7   year_of_release   4330 non-null   object \n",
      " 8   runtime           4330 non-null   object \n",
      " 9   genres            4330 non-null   object \n",
      " 10  imdb_rating       4317 non-null   float64\n",
      " 11  imdb_votes        4317 non-null   float64\n",
      " 12  story             4065 non-null   object \n",
      " 13  summary           4329 non-null   object \n",
      " 14  tagline           685 non-null    object \n",
      " 15  actors            4320 non-null   object \n",
      " 16  wins_nominations  1344 non-null   object \n",
      " 17  release_date      3049 non-null   object \n",
      "dtypes: float64(2), int64(1), object(15)\n",
      "memory usage: 609.0+ KB\n"
     ]
    }
   ],
   "source": [
    "movies.info()"
   ]
  },
  {
   "cell_type": "code",
   "execution_count": 9,
   "id": "contrary-wells",
   "metadata": {},
   "outputs": [
    {
     "name": "stdout",
     "output_type": "stream",
     "text": [
      "4288\n",
      "4052\n",
      "4047\n"
     ]
    }
   ],
   "source": [
    "print(movies['title_x'].nunique())\n",
    "print(movies['title_y'].nunique())\n",
    "print(movies['original_title'].nunique())"
   ]
  },
  {
   "cell_type": "code",
   "execution_count": 10,
   "id": "induced-western",
   "metadata": {},
   "outputs": [
    {
     "data": {
      "text/plain": [
       "title_x                0\n",
       "imdb_id                0\n",
       "poster_path          750\n",
       "wiki_link              0\n",
       "title_y                0\n",
       "original_title         0\n",
       "is_adult               0\n",
       "year_of_release        0\n",
       "runtime                0\n",
       "genres                 0\n",
       "imdb_rating           13\n",
       "imdb_votes            13\n",
       "story                265\n",
       "summary                1\n",
       "tagline             3645\n",
       "actors                10\n",
       "wins_nominations    2986\n",
       "release_date        1281\n",
       "dtype: int64"
      ]
     },
     "execution_count": 10,
     "metadata": {},
     "output_type": "execute_result"
    }
   ],
   "source": [
    "movies.isnull().sum()"
   ]
  },
  {
   "cell_type": "code",
   "execution_count": 11,
   "id": "essential-tribute",
   "metadata": {},
   "outputs": [
    {
     "data": {
      "text/plain": [
       "0"
      ]
     },
     "execution_count": 11,
     "metadata": {},
     "output_type": "execute_result"
    }
   ],
   "source": [
    "movies.duplicated().sum()"
   ]
  },
  {
   "cell_type": "code",
   "execution_count": 12,
   "id": "wanted-ireland",
   "metadata": {},
   "outputs": [
    {
     "name": "stdout",
     "output_type": "stream",
     "text": [
      "4288\n"
     ]
    }
   ],
   "source": [
    "print(movies['title_x'].nunique())"
   ]
  },
  {
   "cell_type": "code",
   "execution_count": 13,
   "id": "improving-batch",
   "metadata": {},
   "outputs": [
    {
     "data": {
      "text/plain": [
       "42"
      ]
     },
     "execution_count": 13,
     "metadata": {},
     "output_type": "execute_result"
    }
   ],
   "source": [
    "movies['title_x'].duplicated().sum()"
   ]
  },
  {
   "cell_type": "code",
   "execution_count": 14,
   "id": "attended-egyptian",
   "metadata": {},
   "outputs": [],
   "source": [
    "#We will select only columns that are useful for us\n",
    "movies = movies[['title_x', 'poster_path', 'wiki_link', 'genres', 'story', 'summary', 'actors']]"
   ]
  },
  {
   "cell_type": "code",
   "execution_count": 15,
   "id": "military-freeware",
   "metadata": {},
   "outputs": [
    {
     "data": {
      "text/html": [
       "<div>\n",
       "<style scoped>\n",
       "    .dataframe tbody tr th:only-of-type {\n",
       "        vertical-align: middle;\n",
       "    }\n",
       "\n",
       "    .dataframe tbody tr th {\n",
       "        vertical-align: top;\n",
       "    }\n",
       "\n",
       "    .dataframe thead th {\n",
       "        text-align: right;\n",
       "    }\n",
       "</style>\n",
       "<table border=\"1\" class=\"dataframe\">\n",
       "  <thead>\n",
       "    <tr style=\"text-align: right;\">\n",
       "      <th></th>\n",
       "      <th>title_x</th>\n",
       "      <th>poster_path</th>\n",
       "      <th>wiki_link</th>\n",
       "      <th>genres</th>\n",
       "      <th>story</th>\n",
       "      <th>summary</th>\n",
       "      <th>actors</th>\n",
       "    </tr>\n",
       "  </thead>\n",
       "  <tbody>\n",
       "    <tr>\n",
       "      <th>0</th>\n",
       "      <td>Uri: The Surgical Strike</td>\n",
       "      <td>https://upload.wikimedia.org/wikipedia/en/thum...</td>\n",
       "      <td>https://en.wikipedia.org/wiki/Uri:_The_Surgica...</td>\n",
       "      <td>Action|Drama|War</td>\n",
       "      <td>Divided over five chapters  the film chronicle...</td>\n",
       "      <td>Indian army special forces execute a covert op...</td>\n",
       "      <td>Vicky Kaushal|Paresh Rawal|Mohit Raina|Yami Ga...</td>\n",
       "    </tr>\n",
       "    <tr>\n",
       "      <th>1</th>\n",
       "      <td>Battalion 609</td>\n",
       "      <td>NaN</td>\n",
       "      <td>https://en.wikipedia.org/wiki/Battalion_609</td>\n",
       "      <td>War</td>\n",
       "      <td>The story revolves around a cricket match betw...</td>\n",
       "      <td>The story of Battalion 609 revolves around a c...</td>\n",
       "      <td>Vicky Ahuja|Shoaib Ibrahim|Shrikant Kamat|Elen...</td>\n",
       "    </tr>\n",
       "    <tr>\n",
       "      <th>2</th>\n",
       "      <td>The Accidental Prime Minister (film)</td>\n",
       "      <td>https://upload.wikimedia.org/wikipedia/en/thum...</td>\n",
       "      <td>https://en.wikipedia.org/wiki/The_Accidental_P...</td>\n",
       "      <td>Biography|Drama</td>\n",
       "      <td>Based on the memoir by Indian policy analyst S...</td>\n",
       "      <td>Explores Manmohan Singh's tenure as the Prime ...</td>\n",
       "      <td>Anupam Kher|Akshaye Khanna|Aahana Kumra|Atul S...</td>\n",
       "    </tr>\n",
       "  </tbody>\n",
       "</table>\n",
       "</div>"
      ],
      "text/plain": [
       "                                title_x  \\\n",
       "0              Uri: The Surgical Strike   \n",
       "1                         Battalion 609   \n",
       "2  The Accidental Prime Minister (film)   \n",
       "\n",
       "                                         poster_path  \\\n",
       "0  https://upload.wikimedia.org/wikipedia/en/thum...   \n",
       "1                                                NaN   \n",
       "2  https://upload.wikimedia.org/wikipedia/en/thum...   \n",
       "\n",
       "                                           wiki_link            genres  \\\n",
       "0  https://en.wikipedia.org/wiki/Uri:_The_Surgica...  Action|Drama|War   \n",
       "1        https://en.wikipedia.org/wiki/Battalion_609               War   \n",
       "2  https://en.wikipedia.org/wiki/The_Accidental_P...   Biography|Drama   \n",
       "\n",
       "                                               story  \\\n",
       "0  Divided over five chapters  the film chronicle...   \n",
       "1  The story revolves around a cricket match betw...   \n",
       "2  Based on the memoir by Indian policy analyst S...   \n",
       "\n",
       "                                             summary  \\\n",
       "0  Indian army special forces execute a covert op...   \n",
       "1  The story of Battalion 609 revolves around a c...   \n",
       "2  Explores Manmohan Singh's tenure as the Prime ...   \n",
       "\n",
       "                                              actors  \n",
       "0  Vicky Kaushal|Paresh Rawal|Mohit Raina|Yami Ga...  \n",
       "1  Vicky Ahuja|Shoaib Ibrahim|Shrikant Kamat|Elen...  \n",
       "2  Anupam Kher|Akshaye Khanna|Aahana Kumra|Atul S...  "
      ]
     },
     "execution_count": 15,
     "metadata": {},
     "output_type": "execute_result"
    }
   ],
   "source": [
    "movies.head(3)"
   ]
  },
  {
   "cell_type": "code",
   "execution_count": 16,
   "id": "conservative-softball",
   "metadata": {},
   "outputs": [
    {
     "data": {
      "text/plain": [
       "title_x          0\n",
       "poster_path    750\n",
       "wiki_link        0\n",
       "genres           0\n",
       "story          265\n",
       "summary          1\n",
       "actors          10\n",
       "dtype: int64"
      ]
     },
     "execution_count": 16,
     "metadata": {},
     "output_type": "execute_result"
    }
   ],
   "source": [
    "movies.isnull().sum()"
   ]
  },
  {
   "cell_type": "code",
   "execution_count": 17,
   "id": "abandoned-monaco",
   "metadata": {},
   "outputs": [
    {
     "data": {
      "text/html": [
       "<div>\n",
       "<style scoped>\n",
       "    .dataframe tbody tr th:only-of-type {\n",
       "        vertical-align: middle;\n",
       "    }\n",
       "\n",
       "    .dataframe tbody tr th {\n",
       "        vertical-align: top;\n",
       "    }\n",
       "\n",
       "    .dataframe thead th {\n",
       "        text-align: right;\n",
       "    }\n",
       "</style>\n",
       "<table border=\"1\" class=\"dataframe\">\n",
       "  <thead>\n",
       "    <tr style=\"text-align: right;\">\n",
       "      <th></th>\n",
       "      <th>title_x</th>\n",
       "      <th>poster_path</th>\n",
       "      <th>wiki_link</th>\n",
       "      <th>genres</th>\n",
       "      <th>story</th>\n",
       "      <th>summary</th>\n",
       "      <th>actors</th>\n",
       "    </tr>\n",
       "  </thead>\n",
       "  <tbody>\n",
       "    <tr>\n",
       "      <th>72</th>\n",
       "      <td>Ramprasad Ki Tehrvi</td>\n",
       "      <td>https://upload.wikimedia.org/wikipedia/en/thum...</td>\n",
       "      <td>https://en.wikipedia.org/wiki/Ramprasad_Ki_Tehrvi</td>\n",
       "      <td>Comedy|Drama</td>\n",
       "      <td>NaN</td>\n",
       "      <td>Add a Plot »</td>\n",
       "      <td>Naseeruddin Shah|Vikrant Massey|Konkona Sen Sh...</td>\n",
       "    </tr>\n",
       "    <tr>\n",
       "      <th>73</th>\n",
       "      <td>Yeh Saali Aashiqui</td>\n",
       "      <td>https://upload.wikimedia.org/wikipedia/en/thum...</td>\n",
       "      <td>https://en.wikipedia.org/wiki/Yeh_Saali_Aashiqui</td>\n",
       "      <td>Thriller</td>\n",
       "      <td>NaN</td>\n",
       "      <td>Add a Plot »</td>\n",
       "      <td>Vardhan Puri|Jessey Lever|</td>\n",
       "    </tr>\n",
       "    <tr>\n",
       "      <th>206</th>\n",
       "      <td>Bachche Kachche Sachche</td>\n",
       "      <td>NaN</td>\n",
       "      <td>https://en.wikipedia.org/wiki/Bachche_Kachche_...</td>\n",
       "      <td>Drama|Short</td>\n",
       "      <td>NaN</td>\n",
       "      <td>Add a Plot »</td>\n",
       "      <td>Manoj Babani|Mukesh Tiwari|</td>\n",
       "    </tr>\n",
       "  </tbody>\n",
       "</table>\n",
       "</div>"
      ],
      "text/plain": [
       "                     title_x  \\\n",
       "72       Ramprasad Ki Tehrvi   \n",
       "73        Yeh Saali Aashiqui   \n",
       "206  Bachche Kachche Sachche   \n",
       "\n",
       "                                           poster_path  \\\n",
       "72   https://upload.wikimedia.org/wikipedia/en/thum...   \n",
       "73   https://upload.wikimedia.org/wikipedia/en/thum...   \n",
       "206                                                NaN   \n",
       "\n",
       "                                             wiki_link        genres story  \\\n",
       "72   https://en.wikipedia.org/wiki/Ramprasad_Ki_Tehrvi  Comedy|Drama   NaN   \n",
       "73    https://en.wikipedia.org/wiki/Yeh_Saali_Aashiqui      Thriller   NaN   \n",
       "206  https://en.wikipedia.org/wiki/Bachche_Kachche_...   Drama|Short   NaN   \n",
       "\n",
       "          summary                                             actors  \n",
       "72   Add a Plot »  Naseeruddin Shah|Vikrant Massey|Konkona Sen Sh...  \n",
       "73   Add a Plot »                         Vardhan Puri|Jessey Lever|  \n",
       "206  Add a Plot »                        Manoj Babani|Mukesh Tiwari|  "
      ]
     },
     "execution_count": 17,
     "metadata": {},
     "output_type": "execute_result"
    }
   ],
   "source": [
    "movies[movies['story'].isnull()].head(3)"
   ]
  },
  {
   "cell_type": "code",
   "execution_count": 18,
   "id": "wrong-dealing",
   "metadata": {},
   "outputs": [
    {
     "data": {
      "text/plain": [
       "'https://en.wikipedia.org/wiki/Yeh_Saali_Aashiqui'"
      ]
     },
     "execution_count": 18,
     "metadata": {},
     "output_type": "execute_result"
    }
   ],
   "source": [
    "temp = movies.iloc[73]['wiki_link']\n",
    "temp"
   ]
  },
  {
   "cell_type": "code",
   "execution_count": 19,
   "id": "committed-catholic",
   "metadata": {},
   "outputs": [],
   "source": [
    "import requests\n",
    "from bs4 import BeautifulSoup"
   ]
  },
  {
   "cell_type": "code",
   "execution_count": 20,
   "id": "middle-fireplace",
   "metadata": {},
   "outputs": [
    {
     "name": "stdout",
     "output_type": "stream",
     "text": [
      "<span class=\"mw-headline\" id=\"Plot\">Plot</span>\n"
     ]
    }
   ],
   "source": [
    "response = requests.get(temp)\n",
    "soup = BeautifulSoup(response.text,'html.parser')\n",
    "# print(soup)\n",
    "plot_section = soup.find('span',{'id':'Plot'})\n",
    "print(plot_section)"
   ]
  },
  {
   "cell_type": "code",
   "execution_count": 21,
   "id": "compliant-switch",
   "metadata": {},
   "outputs": [
    {
     "data": {
      "text/plain": [
       "\"Three years ago, Sahil Mehra and Mittee Deora met at a hotel management college in Shimla and fell in love. Due to Sahil's broken trust, they break up. He finds Mittee cheating in exams and complains about it. Mittee's friend told her that Sahil complained about it. Mittee asks Sahil for a last chance after she fakes fainting in her room. Sahil develops a cold shoulder and forgives her. Mittee hurts herself and then makes a scenario as if Sahil tried to rape her and tells this to her professor. Sahil is proven mentally ill and is sent to a mental hospital. when he was mentally fit.\\n In the present, Sahil has shown improvement and wants to get out but cannot. His identical twin (killer) brother, Surya Mehra, comes in to get some signatures from him. Sahil knocks down Surya and gets out. he starts searching for Mittee for Revenge. Mittee is now in a relationship with Anuj Mathur. Then Sahil attacks her multiple times to scare her with the help of Mittee's friend Kavita. Anuj listens to her they go to the mental asylum to find Surya in it but they mistake Surya for Sahil. Anuj gets angry because of repeated Sahil's words from Mittee and warns her to take his name again. Sahil gets to know that Mittee and Anuj are getting engaged and will soon marry each other. He makes a video and projects it on the engagement day. That video showcased how many more she cheated and their stories in their voices. Everyone gets to know about her real character and Anuj calls off the Engagement. Mittee's father gets an attack and her mother tells Mittee to go away from their life.\\n Sahil calls Mittee to the hospital where her parents are. they both have a huge tiff and Mittee runs around trying to shoot Sahil but misses every time. She finally shoots Sahil in her parents' room with the last bullet. Sahil was still breathing and Mittee took a huge cylinder and hit Sahil multiple times to kill him on the spot. Mittee's parents watch her kill Sahil. Police arrested Mittee and Sahil was pronounced dead. Mittee was given a life sentence.\\n Surya comes to meet Mittee to thank her for killing Sahil. On the way back she heard the sound of a whistle which she knew that only Sahil could play.  She realized that the one who died was Surya. Sahil got Surya out of mental asylum and told him to wait in Mittee's Parent's room. The one who came to meet Mittee was Sahil who hid after getting Mittee to chase him to her parents' room and Mittee killed Surya thinking it was Sahil.\\n The official trailer of the film was unveiled by Pen India Limited on 5 November 2019.[8] It was originally titled Paagal (Mad), but the title was changed as demanded by the Central Board of Film Certification, likely due negative associations of the term in the context of mental health issues; following in the heels of Mental Hai Kya, whose title change was demanded by the Indian Psychiatric Society.[4]\\n This music of the film is composed by Hitesh Modak with lyrics written by Tanveer Ghazi.\\n\""
      ]
     },
     "execution_count": 21,
     "metadata": {},
     "output_type": "execute_result"
    }
   ],
   "source": [
    "plot_paragraphs = plot_section.find_all_next('p')\n",
    "plot_text = ' '.join([p.text for p in plot_paragraphs])\n",
    "plot_text"
   ]
  },
  {
   "cell_type": "code",
   "execution_count": 22,
   "id": "affected-immunology",
   "metadata": {},
   "outputs": [],
   "source": [
    "def beautiful_soup(wiki_link):\n",
    "    response = requests.get(wiki_link)\n",
    "    if response.status_code == 200:\n",
    "        soup = BeautifulSoup(response.text,'html.parser')\n",
    "        plot_section = soup.find('span',{'id':'Plot'})\n",
    "        if plot_section:\n",
    "            plot_paragraphs = plot_section.find_all_next('p')\n",
    "            plot_text = ' '.join([p.text for p in plot_paragraphs])\n",
    "            return plot_text\n",
    "        else:\n",
    "            return np.NAN"
   ]
  },
  {
   "cell_type": "code",
   "execution_count": 23,
   "id": "super-photograph",
   "metadata": {},
   "outputs": [],
   "source": [
    "temp = movies[movies['story'].isnull()]"
   ]
  },
  {
   "cell_type": "code",
   "execution_count": null,
   "id": "brief-description",
   "metadata": {},
   "outputs": [],
   "source": []
  },
  {
   "cell_type": "code",
   "execution_count": 24,
   "id": "approved-forwarding",
   "metadata": {},
   "outputs": [],
   "source": [
    "mask = movies['story'].isna()\n",
    "movies.loc[mask,'story'] = movies.loc[mask,'wiki_link'].apply(beautiful_soup)"
   ]
  },
  {
   "cell_type": "code",
   "execution_count": 25,
   "id": "powered-exemption",
   "metadata": {},
   "outputs": [
    {
     "data": {
      "text/plain": [
       "title_x          0\n",
       "poster_path    750\n",
       "wiki_link        0\n",
       "genres           0\n",
       "story          156\n",
       "summary          1\n",
       "actors          10\n",
       "dtype: int64"
      ]
     },
     "execution_count": 25,
     "metadata": {},
     "output_type": "execute_result"
    }
   ],
   "source": [
    "movies.isnull().sum()"
   ]
  },
  {
   "cell_type": "code",
   "execution_count": 26,
   "id": "starting-surgeon",
   "metadata": {},
   "outputs": [],
   "source": [
    "movies.dropna(subset=['story','summary','actors'],inplace = True)"
   ]
  },
  {
   "cell_type": "code",
   "execution_count": 27,
   "id": "integral-australian",
   "metadata": {},
   "outputs": [
    {
     "data": {
      "text/plain": [
       "title_x          0\n",
       "poster_path    652\n",
       "wiki_link        0\n",
       "genres           0\n",
       "story            0\n",
       "summary          0\n",
       "actors           0\n",
       "dtype: int64"
      ]
     },
     "execution_count": 27,
     "metadata": {},
     "output_type": "execute_result"
    }
   ],
   "source": [
    "movies.isnull().sum()"
   ]
  },
  {
   "cell_type": "code",
   "execution_count": 28,
   "id": "visible-plane",
   "metadata": {},
   "outputs": [
    {
     "data": {
      "text/plain": [
       "'https://upload.wikimedia.org/wikipedia/en/thumb/3/3b/URI_-_New_poster.jpg/220px-URI_-_New_poster.jpg'"
      ]
     },
     "execution_count": 28,
     "metadata": {},
     "output_type": "execute_result"
    }
   ],
   "source": [
    "movies.loc[0]['poster_path']"
   ]
  },
  {
   "cell_type": "code",
   "execution_count": 29,
   "id": "guilty-lucas",
   "metadata": {},
   "outputs": [
    {
     "name": "stderr",
     "output_type": "stream",
     "text": [
      "<ipython-input-29-ecd3f17a00fc>:2: FutureWarning: A value is trying to be set on a copy of a DataFrame or Series through chained assignment using an inplace method.\n",
      "The behavior will change in pandas 3.0. This inplace method will never work because the intermediate object on which we are setting values always behaves as a copy.\n",
      "\n",
      "For example, when doing 'df[col].method(value, inplace=True)', try using 'df.method({col: value}, inplace=True)' or df[col] = df[col].method(value) instead, to perform the operation inplace on the original object.\n",
      "\n",
      "\n",
      "  movies['poster_path'].fillna(default_path,inplace = True)\n"
     ]
    }
   ],
   "source": [
    "default_path = 'https://upload.wikimedia.org/wikipedia/commons/1/14/No_Image_Available.jpg'\n",
    "movies['poster_path'].fillna(default_path,inplace = True)"
   ]
  },
  {
   "cell_type": "code",
   "execution_count": 30,
   "id": "solar-mitchell",
   "metadata": {},
   "outputs": [
    {
     "data": {
      "text/plain": [
       "title_x        0\n",
       "poster_path    0\n",
       "wiki_link      0\n",
       "genres         0\n",
       "story          0\n",
       "summary        0\n",
       "actors         0\n",
       "dtype: int64"
      ]
     },
     "execution_count": 30,
     "metadata": {},
     "output_type": "execute_result"
    }
   ],
   "source": [
    "movies.isnull().sum()"
   ]
  },
  {
   "cell_type": "code",
   "execution_count": 31,
   "id": "modular-security",
   "metadata": {},
   "outputs": [
    {
     "data": {
      "text/plain": [
       "(4169, 7)"
      ]
     },
     "execution_count": 31,
     "metadata": {},
     "output_type": "execute_result"
    }
   ],
   "source": [
    "movies.shape"
   ]
  },
  {
   "cell_type": "code",
   "execution_count": 32,
   "id": "acoustic-birmingham",
   "metadata": {},
   "outputs": [
    {
     "data": {
      "text/html": [
       "<div>\n",
       "<style scoped>\n",
       "    .dataframe tbody tr th:only-of-type {\n",
       "        vertical-align: middle;\n",
       "    }\n",
       "\n",
       "    .dataframe tbody tr th {\n",
       "        vertical-align: top;\n",
       "    }\n",
       "\n",
       "    .dataframe thead th {\n",
       "        text-align: right;\n",
       "    }\n",
       "</style>\n",
       "<table border=\"1\" class=\"dataframe\">\n",
       "  <thead>\n",
       "    <tr style=\"text-align: right;\">\n",
       "      <th></th>\n",
       "      <th>title_x</th>\n",
       "      <th>poster_path</th>\n",
       "      <th>wiki_link</th>\n",
       "      <th>genres</th>\n",
       "      <th>story</th>\n",
       "      <th>summary</th>\n",
       "      <th>actors</th>\n",
       "    </tr>\n",
       "  </thead>\n",
       "  <tbody>\n",
       "    <tr>\n",
       "      <th>0</th>\n",
       "      <td>Uri: The Surgical Strike</td>\n",
       "      <td>https://upload.wikimedia.org/wikipedia/en/thum...</td>\n",
       "      <td>https://en.wikipedia.org/wiki/Uri:_The_Surgica...</td>\n",
       "      <td>Action|Drama|War</td>\n",
       "      <td>Divided over five chapters  the film chronicle...</td>\n",
       "      <td>Indian army special forces execute a covert op...</td>\n",
       "      <td>Vicky Kaushal|Paresh Rawal|Mohit Raina|Yami Ga...</td>\n",
       "    </tr>\n",
       "    <tr>\n",
       "      <th>1</th>\n",
       "      <td>Battalion 609</td>\n",
       "      <td>https://upload.wikimedia.org/wikipedia/commons...</td>\n",
       "      <td>https://en.wikipedia.org/wiki/Battalion_609</td>\n",
       "      <td>War</td>\n",
       "      <td>The story revolves around a cricket match betw...</td>\n",
       "      <td>The story of Battalion 609 revolves around a c...</td>\n",
       "      <td>Vicky Ahuja|Shoaib Ibrahim|Shrikant Kamat|Elen...</td>\n",
       "    </tr>\n",
       "    <tr>\n",
       "      <th>2</th>\n",
       "      <td>The Accidental Prime Minister (film)</td>\n",
       "      <td>https://upload.wikimedia.org/wikipedia/en/thum...</td>\n",
       "      <td>https://en.wikipedia.org/wiki/The_Accidental_P...</td>\n",
       "      <td>Biography|Drama</td>\n",
       "      <td>Based on the memoir by Indian policy analyst S...</td>\n",
       "      <td>Explores Manmohan Singh's tenure as the Prime ...</td>\n",
       "      <td>Anupam Kher|Akshaye Khanna|Aahana Kumra|Atul S...</td>\n",
       "    </tr>\n",
       "  </tbody>\n",
       "</table>\n",
       "</div>"
      ],
      "text/plain": [
       "                                title_x  \\\n",
       "0              Uri: The Surgical Strike   \n",
       "1                         Battalion 609   \n",
       "2  The Accidental Prime Minister (film)   \n",
       "\n",
       "                                         poster_path  \\\n",
       "0  https://upload.wikimedia.org/wikipedia/en/thum...   \n",
       "1  https://upload.wikimedia.org/wikipedia/commons...   \n",
       "2  https://upload.wikimedia.org/wikipedia/en/thum...   \n",
       "\n",
       "                                           wiki_link            genres  \\\n",
       "0  https://en.wikipedia.org/wiki/Uri:_The_Surgica...  Action|Drama|War   \n",
       "1        https://en.wikipedia.org/wiki/Battalion_609               War   \n",
       "2  https://en.wikipedia.org/wiki/The_Accidental_P...   Biography|Drama   \n",
       "\n",
       "                                               story  \\\n",
       "0  Divided over five chapters  the film chronicle...   \n",
       "1  The story revolves around a cricket match betw...   \n",
       "2  Based on the memoir by Indian policy analyst S...   \n",
       "\n",
       "                                             summary  \\\n",
       "0  Indian army special forces execute a covert op...   \n",
       "1  The story of Battalion 609 revolves around a c...   \n",
       "2  Explores Manmohan Singh's tenure as the Prime ...   \n",
       "\n",
       "                                              actors  \n",
       "0  Vicky Kaushal|Paresh Rawal|Mohit Raina|Yami Ga...  \n",
       "1  Vicky Ahuja|Shoaib Ibrahim|Shrikant Kamat|Elen...  \n",
       "2  Anupam Kher|Akshaye Khanna|Aahana Kumra|Atul S...  "
      ]
     },
     "execution_count": 32,
     "metadata": {},
     "output_type": "execute_result"
    }
   ],
   "source": [
    "movies.head(3)"
   ]
  },
  {
   "cell_type": "code",
   "execution_count": 33,
   "id": "minute-gross",
   "metadata": {},
   "outputs": [],
   "source": [
    "movies.rename(columns = {'title_x' : 'title'},inplace = True)"
   ]
  },
  {
   "cell_type": "code",
   "execution_count": 34,
   "id": "forty-participant",
   "metadata": {},
   "outputs": [],
   "source": [
    "#To drop duplicates from title\n",
    "movies.drop_duplicates(subset =['title'],inplace = True)"
   ]
  },
  {
   "cell_type": "code",
   "execution_count": 35,
   "id": "fourth-accessory",
   "metadata": {},
   "outputs": [],
   "source": [
    "movies = movies[['title','poster_path','genres','story','summary','actors']]"
   ]
  },
  {
   "cell_type": "code",
   "execution_count": 36,
   "id": "large-sympathy",
   "metadata": {},
   "outputs": [
    {
     "data": {
      "text/html": [
       "<div>\n",
       "<style scoped>\n",
       "    .dataframe tbody tr th:only-of-type {\n",
       "        vertical-align: middle;\n",
       "    }\n",
       "\n",
       "    .dataframe tbody tr th {\n",
       "        vertical-align: top;\n",
       "    }\n",
       "\n",
       "    .dataframe thead th {\n",
       "        text-align: right;\n",
       "    }\n",
       "</style>\n",
       "<table border=\"1\" class=\"dataframe\">\n",
       "  <thead>\n",
       "    <tr style=\"text-align: right;\">\n",
       "      <th></th>\n",
       "      <th>title</th>\n",
       "      <th>poster_path</th>\n",
       "      <th>genres</th>\n",
       "      <th>story</th>\n",
       "      <th>summary</th>\n",
       "      <th>actors</th>\n",
       "    </tr>\n",
       "  </thead>\n",
       "  <tbody>\n",
       "    <tr>\n",
       "      <th>0</th>\n",
       "      <td>Uri: The Surgical Strike</td>\n",
       "      <td>https://upload.wikimedia.org/wikipedia/en/thum...</td>\n",
       "      <td>Action|Drama|War</td>\n",
       "      <td>Divided over five chapters  the film chronicle...</td>\n",
       "      <td>Indian army special forces execute a covert op...</td>\n",
       "      <td>Vicky Kaushal|Paresh Rawal|Mohit Raina|Yami Ga...</td>\n",
       "    </tr>\n",
       "    <tr>\n",
       "      <th>1</th>\n",
       "      <td>Battalion 609</td>\n",
       "      <td>https://upload.wikimedia.org/wikipedia/commons...</td>\n",
       "      <td>War</td>\n",
       "      <td>The story revolves around a cricket match betw...</td>\n",
       "      <td>The story of Battalion 609 revolves around a c...</td>\n",
       "      <td>Vicky Ahuja|Shoaib Ibrahim|Shrikant Kamat|Elen...</td>\n",
       "    </tr>\n",
       "  </tbody>\n",
       "</table>\n",
       "</div>"
      ],
      "text/plain": [
       "                      title  \\\n",
       "0  Uri: The Surgical Strike   \n",
       "1             Battalion 609   \n",
       "\n",
       "                                         poster_path            genres  \\\n",
       "0  https://upload.wikimedia.org/wikipedia/en/thum...  Action|Drama|War   \n",
       "1  https://upload.wikimedia.org/wikipedia/commons...               War   \n",
       "\n",
       "                                               story  \\\n",
       "0  Divided over five chapters  the film chronicle...   \n",
       "1  The story revolves around a cricket match betw...   \n",
       "\n",
       "                                             summary  \\\n",
       "0  Indian army special forces execute a covert op...   \n",
       "1  The story of Battalion 609 revolves around a c...   \n",
       "\n",
       "                                              actors  \n",
       "0  Vicky Kaushal|Paresh Rawal|Mohit Raina|Yami Ga...  \n",
       "1  Vicky Ahuja|Shoaib Ibrahim|Shrikant Kamat|Elen...  "
      ]
     },
     "execution_count": 36,
     "metadata": {},
     "output_type": "execute_result"
    }
   ],
   "source": [
    "movies.head(2)"
   ]
  },
  {
   "cell_type": "code",
   "execution_count": 37,
   "id": "rough-husband",
   "metadata": {},
   "outputs": [
    {
     "data": {
      "text/plain": [
       "'Action|Drama|War'"
      ]
     },
     "execution_count": 37,
     "metadata": {},
     "output_type": "execute_result"
    }
   ],
   "source": [
    "movies.loc[0]['genres']"
   ]
  },
  {
   "cell_type": "code",
   "execution_count": 38,
   "id": "complete-allen",
   "metadata": {},
   "outputs": [],
   "source": [
    "def convert(text):\n",
    "    return [i for i in text.split('|')]"
   ]
  },
  {
   "cell_type": "code",
   "execution_count": 39,
   "id": "fitting-initial",
   "metadata": {},
   "outputs": [],
   "source": [
    "movies['genres'] = movies['genres'].apply(convert)\n",
    "movies['actors'] = movies['actors'].apply(convert)"
   ]
  },
  {
   "cell_type": "code",
   "execution_count": 40,
   "id": "answering-wheel",
   "metadata": {},
   "outputs": [
    {
     "data": {
      "text/html": [
       "<div>\n",
       "<style scoped>\n",
       "    .dataframe tbody tr th:only-of-type {\n",
       "        vertical-align: middle;\n",
       "    }\n",
       "\n",
       "    .dataframe tbody tr th {\n",
       "        vertical-align: top;\n",
       "    }\n",
       "\n",
       "    .dataframe thead th {\n",
       "        text-align: right;\n",
       "    }\n",
       "</style>\n",
       "<table border=\"1\" class=\"dataframe\">\n",
       "  <thead>\n",
       "    <tr style=\"text-align: right;\">\n",
       "      <th></th>\n",
       "      <th>title</th>\n",
       "      <th>poster_path</th>\n",
       "      <th>genres</th>\n",
       "      <th>story</th>\n",
       "      <th>summary</th>\n",
       "      <th>actors</th>\n",
       "    </tr>\n",
       "  </thead>\n",
       "  <tbody>\n",
       "    <tr>\n",
       "      <th>0</th>\n",
       "      <td>Uri: The Surgical Strike</td>\n",
       "      <td>https://upload.wikimedia.org/wikipedia/en/thum...</td>\n",
       "      <td>[Action, Drama, War]</td>\n",
       "      <td>Divided over five chapters  the film chronicle...</td>\n",
       "      <td>Indian army special forces execute a covert op...</td>\n",
       "      <td>[Vicky Kaushal, Paresh Rawal, Mohit Raina, Yam...</td>\n",
       "    </tr>\n",
       "    <tr>\n",
       "      <th>1</th>\n",
       "      <td>Battalion 609</td>\n",
       "      <td>https://upload.wikimedia.org/wikipedia/commons...</td>\n",
       "      <td>[War]</td>\n",
       "      <td>The story revolves around a cricket match betw...</td>\n",
       "      <td>The story of Battalion 609 revolves around a c...</td>\n",
       "      <td>[Vicky Ahuja, Shoaib Ibrahim, Shrikant Kamat, ...</td>\n",
       "    </tr>\n",
       "    <tr>\n",
       "      <th>2</th>\n",
       "      <td>The Accidental Prime Minister (film)</td>\n",
       "      <td>https://upload.wikimedia.org/wikipedia/en/thum...</td>\n",
       "      <td>[Biography, Drama]</td>\n",
       "      <td>Based on the memoir by Indian policy analyst S...</td>\n",
       "      <td>Explores Manmohan Singh's tenure as the Prime ...</td>\n",
       "      <td>[Anupam Kher, Akshaye Khanna, Aahana Kumra, At...</td>\n",
       "    </tr>\n",
       "    <tr>\n",
       "      <th>3</th>\n",
       "      <td>Why Cheat India</td>\n",
       "      <td>https://upload.wikimedia.org/wikipedia/en/thum...</td>\n",
       "      <td>[Crime, Drama]</td>\n",
       "      <td>The movie focuses on existing malpractices in ...</td>\n",
       "      <td>The movie focuses on existing malpractices in ...</td>\n",
       "      <td>[Emraan Hashmi, Shreya Dhanwanthary, Snighdade...</td>\n",
       "    </tr>\n",
       "    <tr>\n",
       "      <th>4</th>\n",
       "      <td>Evening Shadows</td>\n",
       "      <td>https://upload.wikimedia.org/wikipedia/commons...</td>\n",
       "      <td>[Drama]</td>\n",
       "      <td>While gay rights and marriage equality has bee...</td>\n",
       "      <td>Under the 'Evening Shadows'  truth often plays...</td>\n",
       "      <td>[Mona Ambegaonkar, Ananth Narayan Mahadevan, D...</td>\n",
       "    </tr>\n",
       "    <tr>\n",
       "      <th>5</th>\n",
       "      <td>Soni (film)</td>\n",
       "      <td>https://upload.wikimedia.org/wikipedia/en/thum...</td>\n",
       "      <td>[Drama]</td>\n",
       "      <td>Soni  a young policewoman in Delhi  and her su...</td>\n",
       "      <td>While fighting crimes against women in Delhi  ...</td>\n",
       "      <td>[Geetika Vidya Ohlyan, Saloni Batra, Vikas Shu...</td>\n",
       "    </tr>\n",
       "    <tr>\n",
       "      <th>6</th>\n",
       "      <td>Fraud Saiyaan</td>\n",
       "      <td>https://upload.wikimedia.org/wikipedia/en/thum...</td>\n",
       "      <td>[Comedy, Drama]</td>\n",
       "      <td>Fraud Saiyyan is the story of a con artist in ...</td>\n",
       "      <td>Fraud Saiyyan is the story of a con artist in ...</td>\n",
       "      <td>[Arshad Warsi, Saurabh Shukla, Flora Saini, Sa...</td>\n",
       "    </tr>\n",
       "    <tr>\n",
       "      <th>7</th>\n",
       "      <td>Bombairiya</td>\n",
       "      <td>https://upload.wikimedia.org/wikipedia/en/thum...</td>\n",
       "      <td>[Comedy, Crime, Drama]</td>\n",
       "      <td>It follows the story of Meghna  who gets embro...</td>\n",
       "      <td>It follows the story of Meghna  who gets embro...</td>\n",
       "      <td>[Radhika Apte, Akshay Oberoi, Siddhanth Kapoor...</td>\n",
       "    </tr>\n",
       "    <tr>\n",
       "      <th>8</th>\n",
       "      <td>Manikarnika: The Queen of Jhansi</td>\n",
       "      <td>https://upload.wikimedia.org/wikipedia/en/thum...</td>\n",
       "      <td>[Action, Biography, Drama]</td>\n",
       "      <td>Manikarnika born in Varanasi when Dixt a minis...</td>\n",
       "      <td>Story of Rani Lakshmibai  one of the leading f...</td>\n",
       "      <td>[Kangana Ranaut, Rimi Sen, Atul Kulkarni, Naln...</td>\n",
       "    </tr>\n",
       "    <tr>\n",
       "      <th>9</th>\n",
       "      <td>Thackeray (film)</td>\n",
       "      <td>https://upload.wikimedia.org/wikipedia/en/thum...</td>\n",
       "      <td>[Biography, Drama]</td>\n",
       "      <td>Balasaheb Thackrey works as a cartoonist for a...</td>\n",
       "      <td>Biographical account of Shiv Sena Supremo  Bal...</td>\n",
       "      <td>[Nawazuddin Siddiqui, Amrita Rao, Abdul Quadir...</td>\n",
       "    </tr>\n",
       "  </tbody>\n",
       "</table>\n",
       "</div>"
      ],
      "text/plain": [
       "                                  title  \\\n",
       "0              Uri: The Surgical Strike   \n",
       "1                         Battalion 609   \n",
       "2  The Accidental Prime Minister (film)   \n",
       "3                       Why Cheat India   \n",
       "4                       Evening Shadows   \n",
       "5                           Soni (film)   \n",
       "6                         Fraud Saiyaan   \n",
       "7                            Bombairiya   \n",
       "8      Manikarnika: The Queen of Jhansi   \n",
       "9                      Thackeray (film)   \n",
       "\n",
       "                                         poster_path  \\\n",
       "0  https://upload.wikimedia.org/wikipedia/en/thum...   \n",
       "1  https://upload.wikimedia.org/wikipedia/commons...   \n",
       "2  https://upload.wikimedia.org/wikipedia/en/thum...   \n",
       "3  https://upload.wikimedia.org/wikipedia/en/thum...   \n",
       "4  https://upload.wikimedia.org/wikipedia/commons...   \n",
       "5  https://upload.wikimedia.org/wikipedia/en/thum...   \n",
       "6  https://upload.wikimedia.org/wikipedia/en/thum...   \n",
       "7  https://upload.wikimedia.org/wikipedia/en/thum...   \n",
       "8  https://upload.wikimedia.org/wikipedia/en/thum...   \n",
       "9  https://upload.wikimedia.org/wikipedia/en/thum...   \n",
       "\n",
       "                       genres  \\\n",
       "0        [Action, Drama, War]   \n",
       "1                       [War]   \n",
       "2          [Biography, Drama]   \n",
       "3              [Crime, Drama]   \n",
       "4                     [Drama]   \n",
       "5                     [Drama]   \n",
       "6             [Comedy, Drama]   \n",
       "7      [Comedy, Crime, Drama]   \n",
       "8  [Action, Biography, Drama]   \n",
       "9          [Biography, Drama]   \n",
       "\n",
       "                                               story  \\\n",
       "0  Divided over five chapters  the film chronicle...   \n",
       "1  The story revolves around a cricket match betw...   \n",
       "2  Based on the memoir by Indian policy analyst S...   \n",
       "3  The movie focuses on existing malpractices in ...   \n",
       "4  While gay rights and marriage equality has bee...   \n",
       "5  Soni  a young policewoman in Delhi  and her su...   \n",
       "6  Fraud Saiyyan is the story of a con artist in ...   \n",
       "7  It follows the story of Meghna  who gets embro...   \n",
       "8  Manikarnika born in Varanasi when Dixt a minis...   \n",
       "9  Balasaheb Thackrey works as a cartoonist for a...   \n",
       "\n",
       "                                             summary  \\\n",
       "0  Indian army special forces execute a covert op...   \n",
       "1  The story of Battalion 609 revolves around a c...   \n",
       "2  Explores Manmohan Singh's tenure as the Prime ...   \n",
       "3  The movie focuses on existing malpractices in ...   \n",
       "4  Under the 'Evening Shadows'  truth often plays...   \n",
       "5  While fighting crimes against women in Delhi  ...   \n",
       "6  Fraud Saiyyan is the story of a con artist in ...   \n",
       "7  It follows the story of Meghna  who gets embro...   \n",
       "8  Story of Rani Lakshmibai  one of the leading f...   \n",
       "9  Biographical account of Shiv Sena Supremo  Bal...   \n",
       "\n",
       "                                              actors  \n",
       "0  [Vicky Kaushal, Paresh Rawal, Mohit Raina, Yam...  \n",
       "1  [Vicky Ahuja, Shoaib Ibrahim, Shrikant Kamat, ...  \n",
       "2  [Anupam Kher, Akshaye Khanna, Aahana Kumra, At...  \n",
       "3  [Emraan Hashmi, Shreya Dhanwanthary, Snighdade...  \n",
       "4  [Mona Ambegaonkar, Ananth Narayan Mahadevan, D...  \n",
       "5  [Geetika Vidya Ohlyan, Saloni Batra, Vikas Shu...  \n",
       "6  [Arshad Warsi, Saurabh Shukla, Flora Saini, Sa...  \n",
       "7  [Radhika Apte, Akshay Oberoi, Siddhanth Kapoor...  \n",
       "8  [Kangana Ranaut, Rimi Sen, Atul Kulkarni, Naln...  \n",
       "9  [Nawazuddin Siddiqui, Amrita Rao, Abdul Quadir...  "
      ]
     },
     "execution_count": 40,
     "metadata": {},
     "output_type": "execute_result"
    }
   ],
   "source": [
    "movies.head(10)"
   ]
  },
  {
   "cell_type": "code",
   "execution_count": 41,
   "id": "centered-christmas",
   "metadata": {},
   "outputs": [
    {
     "data": {
      "text/plain": [
       "0"
      ]
     },
     "execution_count": 41,
     "metadata": {},
     "output_type": "execute_result"
    }
   ],
   "source": [
    "movies['actors'].isnull().sum()"
   ]
  },
  {
   "cell_type": "code",
   "execution_count": 42,
   "id": "brilliant-vietnam",
   "metadata": {},
   "outputs": [
    {
     "data": {
      "text/html": [
       "<div>\n",
       "<style scoped>\n",
       "    .dataframe tbody tr th:only-of-type {\n",
       "        vertical-align: middle;\n",
       "    }\n",
       "\n",
       "    .dataframe tbody tr th {\n",
       "        vertical-align: top;\n",
       "    }\n",
       "\n",
       "    .dataframe thead th {\n",
       "        text-align: right;\n",
       "    }\n",
       "</style>\n",
       "<table border=\"1\" class=\"dataframe\">\n",
       "  <thead>\n",
       "    <tr style=\"text-align: right;\">\n",
       "      <th></th>\n",
       "      <th>title</th>\n",
       "      <th>poster_path</th>\n",
       "      <th>genres</th>\n",
       "      <th>story</th>\n",
       "      <th>summary</th>\n",
       "      <th>actors</th>\n",
       "    </tr>\n",
       "  </thead>\n",
       "  <tbody>\n",
       "    <tr>\n",
       "      <th>0</th>\n",
       "      <td>Uri: The Surgical Strike</td>\n",
       "      <td>https://upload.wikimedia.org/wikipedia/en/thum...</td>\n",
       "      <td>[Action, Drama, War]</td>\n",
       "      <td>Divided over five chapters  the film chronicle...</td>\n",
       "      <td>Indian army special forces execute a covert op...</td>\n",
       "      <td>[Vicky Kaushal, Paresh Rawal, Mohit Raina, Yam...</td>\n",
       "    </tr>\n",
       "    <tr>\n",
       "      <th>1</th>\n",
       "      <td>Battalion 609</td>\n",
       "      <td>https://upload.wikimedia.org/wikipedia/commons...</td>\n",
       "      <td>[War]</td>\n",
       "      <td>The story revolves around a cricket match betw...</td>\n",
       "      <td>The story of Battalion 609 revolves around a c...</td>\n",
       "      <td>[Vicky Ahuja, Shoaib Ibrahim, Shrikant Kamat, ...</td>\n",
       "    </tr>\n",
       "  </tbody>\n",
       "</table>\n",
       "</div>"
      ],
      "text/plain": [
       "                      title  \\\n",
       "0  Uri: The Surgical Strike   \n",
       "1             Battalion 609   \n",
       "\n",
       "                                         poster_path                genres  \\\n",
       "0  https://upload.wikimedia.org/wikipedia/en/thum...  [Action, Drama, War]   \n",
       "1  https://upload.wikimedia.org/wikipedia/commons...                 [War]   \n",
       "\n",
       "                                               story  \\\n",
       "0  Divided over five chapters  the film chronicle...   \n",
       "1  The story revolves around a cricket match betw...   \n",
       "\n",
       "                                             summary  \\\n",
       "0  Indian army special forces execute a covert op...   \n",
       "1  The story of Battalion 609 revolves around a c...   \n",
       "\n",
       "                                              actors  \n",
       "0  [Vicky Kaushal, Paresh Rawal, Mohit Raina, Yam...  \n",
       "1  [Vicky Ahuja, Shoaib Ibrahim, Shrikant Kamat, ...  "
      ]
     },
     "execution_count": 42,
     "metadata": {},
     "output_type": "execute_result"
    }
   ],
   "source": [
    "movies.head(2)"
   ]
  },
  {
   "cell_type": "code",
   "execution_count": 43,
   "id": "jewish-national",
   "metadata": {},
   "outputs": [],
   "source": [
    "movies['story'] = movies['story'].apply(lambda x: x.split())\n",
    "movies['summary'] = movies['summary'].apply(lambda x: x.split())"
   ]
  },
  {
   "cell_type": "code",
   "execution_count": 44,
   "id": "velvet-anaheim",
   "metadata": {},
   "outputs": [
    {
     "data": {
      "text/html": [
       "<div>\n",
       "<style scoped>\n",
       "    .dataframe tbody tr th:only-of-type {\n",
       "        vertical-align: middle;\n",
       "    }\n",
       "\n",
       "    .dataframe tbody tr th {\n",
       "        vertical-align: top;\n",
       "    }\n",
       "\n",
       "    .dataframe thead th {\n",
       "        text-align: right;\n",
       "    }\n",
       "</style>\n",
       "<table border=\"1\" class=\"dataframe\">\n",
       "  <thead>\n",
       "    <tr style=\"text-align: right;\">\n",
       "      <th></th>\n",
       "      <th>title</th>\n",
       "      <th>poster_path</th>\n",
       "      <th>genres</th>\n",
       "      <th>story</th>\n",
       "      <th>summary</th>\n",
       "      <th>actors</th>\n",
       "    </tr>\n",
       "  </thead>\n",
       "  <tbody>\n",
       "    <tr>\n",
       "      <th>0</th>\n",
       "      <td>Uri: The Surgical Strike</td>\n",
       "      <td>https://upload.wikimedia.org/wikipedia/en/thum...</td>\n",
       "      <td>[Action, Drama, War]</td>\n",
       "      <td>[Divided, over, five, chapters, the, film, chr...</td>\n",
       "      <td>[Indian, army, special, forces, execute, a, co...</td>\n",
       "      <td>[Vicky Kaushal, Paresh Rawal, Mohit Raina, Yam...</td>\n",
       "    </tr>\n",
       "    <tr>\n",
       "      <th>1</th>\n",
       "      <td>Battalion 609</td>\n",
       "      <td>https://upload.wikimedia.org/wikipedia/commons...</td>\n",
       "      <td>[War]</td>\n",
       "      <td>[The, story, revolves, around, a, cricket, mat...</td>\n",
       "      <td>[The, story, of, Battalion, 609, revolves, aro...</td>\n",
       "      <td>[Vicky Ahuja, Shoaib Ibrahim, Shrikant Kamat, ...</td>\n",
       "    </tr>\n",
       "    <tr>\n",
       "      <th>2</th>\n",
       "      <td>The Accidental Prime Minister (film)</td>\n",
       "      <td>https://upload.wikimedia.org/wikipedia/en/thum...</td>\n",
       "      <td>[Biography, Drama]</td>\n",
       "      <td>[Based, on, the, memoir, by, Indian, policy, a...</td>\n",
       "      <td>[Explores, Manmohan, Singh's, tenure, as, the,...</td>\n",
       "      <td>[Anupam Kher, Akshaye Khanna, Aahana Kumra, At...</td>\n",
       "    </tr>\n",
       "  </tbody>\n",
       "</table>\n",
       "</div>"
      ],
      "text/plain": [
       "                                  title  \\\n",
       "0              Uri: The Surgical Strike   \n",
       "1                         Battalion 609   \n",
       "2  The Accidental Prime Minister (film)   \n",
       "\n",
       "                                         poster_path                genres  \\\n",
       "0  https://upload.wikimedia.org/wikipedia/en/thum...  [Action, Drama, War]   \n",
       "1  https://upload.wikimedia.org/wikipedia/commons...                 [War]   \n",
       "2  https://upload.wikimedia.org/wikipedia/en/thum...    [Biography, Drama]   \n",
       "\n",
       "                                               story  \\\n",
       "0  [Divided, over, five, chapters, the, film, chr...   \n",
       "1  [The, story, revolves, around, a, cricket, mat...   \n",
       "2  [Based, on, the, memoir, by, Indian, policy, a...   \n",
       "\n",
       "                                             summary  \\\n",
       "0  [Indian, army, special, forces, execute, a, co...   \n",
       "1  [The, story, of, Battalion, 609, revolves, aro...   \n",
       "2  [Explores, Manmohan, Singh's, tenure, as, the,...   \n",
       "\n",
       "                                              actors  \n",
       "0  [Vicky Kaushal, Paresh Rawal, Mohit Raina, Yam...  \n",
       "1  [Vicky Ahuja, Shoaib Ibrahim, Shrikant Kamat, ...  \n",
       "2  [Anupam Kher, Akshaye Khanna, Aahana Kumra, At...  "
      ]
     },
     "execution_count": 44,
     "metadata": {},
     "output_type": "execute_result"
    }
   ],
   "source": [
    "movies.head(3)"
   ]
  },
  {
   "cell_type": "code",
   "execution_count": 45,
   "id": "blocked-spine",
   "metadata": {},
   "outputs": [],
   "source": [
    "movies['actors'] = movies['actors'].apply(lambda x: [i.replace(' ','') for i in x])\n",
    "movies['genres'] = movies['genres'].apply(lambda x: [i.replace(' ','') for i in x])\n",
    "movies['story'] = movies['story'].apply(lambda x: [i.replace(' ','') for i in x])\n",
    "movies['summary'] = movies['summary'].apply(lambda x: [i.replace(' ','') for i in x])"
   ]
  },
  {
   "cell_type": "code",
   "execution_count": 46,
   "id": "asian-duration",
   "metadata": {},
   "outputs": [
    {
     "data": {
      "text/html": [
       "<div>\n",
       "<style scoped>\n",
       "    .dataframe tbody tr th:only-of-type {\n",
       "        vertical-align: middle;\n",
       "    }\n",
       "\n",
       "    .dataframe tbody tr th {\n",
       "        vertical-align: top;\n",
       "    }\n",
       "\n",
       "    .dataframe thead th {\n",
       "        text-align: right;\n",
       "    }\n",
       "</style>\n",
       "<table border=\"1\" class=\"dataframe\">\n",
       "  <thead>\n",
       "    <tr style=\"text-align: right;\">\n",
       "      <th></th>\n",
       "      <th>title</th>\n",
       "      <th>poster_path</th>\n",
       "      <th>genres</th>\n",
       "      <th>story</th>\n",
       "      <th>summary</th>\n",
       "      <th>actors</th>\n",
       "    </tr>\n",
       "  </thead>\n",
       "  <tbody>\n",
       "    <tr>\n",
       "      <th>0</th>\n",
       "      <td>Uri: The Surgical Strike</td>\n",
       "      <td>https://upload.wikimedia.org/wikipedia/en/thum...</td>\n",
       "      <td>[Action, Drama, War]</td>\n",
       "      <td>[Divided, over, five, chapters, the, film, chr...</td>\n",
       "      <td>[Indian, army, special, forces, execute, a, co...</td>\n",
       "      <td>[VickyKaushal, PareshRawal, MohitRaina, YamiGa...</td>\n",
       "    </tr>\n",
       "    <tr>\n",
       "      <th>1</th>\n",
       "      <td>Battalion 609</td>\n",
       "      <td>https://upload.wikimedia.org/wikipedia/commons...</td>\n",
       "      <td>[War]</td>\n",
       "      <td>[The, story, revolves, around, a, cricket, mat...</td>\n",
       "      <td>[The, story, of, Battalion, 609, revolves, aro...</td>\n",
       "      <td>[VickyAhuja, ShoaibIbrahim, ShrikantKamat, Ele...</td>\n",
       "    </tr>\n",
       "    <tr>\n",
       "      <th>2</th>\n",
       "      <td>The Accidental Prime Minister (film)</td>\n",
       "      <td>https://upload.wikimedia.org/wikipedia/en/thum...</td>\n",
       "      <td>[Biography, Drama]</td>\n",
       "      <td>[Based, on, the, memoir, by, Indian, policy, a...</td>\n",
       "      <td>[Explores, Manmohan, Singh's, tenure, as, the,...</td>\n",
       "      <td>[AnupamKher, AkshayeKhanna, AahanaKumra, AtulS...</td>\n",
       "    </tr>\n",
       "  </tbody>\n",
       "</table>\n",
       "</div>"
      ],
      "text/plain": [
       "                                  title  \\\n",
       "0              Uri: The Surgical Strike   \n",
       "1                         Battalion 609   \n",
       "2  The Accidental Prime Minister (film)   \n",
       "\n",
       "                                         poster_path                genres  \\\n",
       "0  https://upload.wikimedia.org/wikipedia/en/thum...  [Action, Drama, War]   \n",
       "1  https://upload.wikimedia.org/wikipedia/commons...                 [War]   \n",
       "2  https://upload.wikimedia.org/wikipedia/en/thum...    [Biography, Drama]   \n",
       "\n",
       "                                               story  \\\n",
       "0  [Divided, over, five, chapters, the, film, chr...   \n",
       "1  [The, story, revolves, around, a, cricket, mat...   \n",
       "2  [Based, on, the, memoir, by, Indian, policy, a...   \n",
       "\n",
       "                                             summary  \\\n",
       "0  [Indian, army, special, forces, execute, a, co...   \n",
       "1  [The, story, of, Battalion, 609, revolves, aro...   \n",
       "2  [Explores, Manmohan, Singh's, tenure, as, the,...   \n",
       "\n",
       "                                              actors  \n",
       "0  [VickyKaushal, PareshRawal, MohitRaina, YamiGa...  \n",
       "1  [VickyAhuja, ShoaibIbrahim, ShrikantKamat, Ele...  \n",
       "2  [AnupamKher, AkshayeKhanna, AahanaKumra, AtulS...  "
      ]
     },
     "execution_count": 46,
     "metadata": {},
     "output_type": "execute_result"
    }
   ],
   "source": [
    "movies.head(3)"
   ]
  },
  {
   "cell_type": "code",
   "execution_count": 47,
   "id": "necessary-announcement",
   "metadata": {},
   "outputs": [],
   "source": [
    "movies['tags'] = movies['genres'] + movies['story'] + movies['summary'] + movies['actors']"
   ]
  },
  {
   "cell_type": "code",
   "execution_count": 48,
   "id": "amber-phase",
   "metadata": {},
   "outputs": [],
   "source": [
    "movies = movies[['title','poster_path','tags']]"
   ]
  },
  {
   "cell_type": "code",
   "execution_count": 49,
   "id": "saved-senior",
   "metadata": {},
   "outputs": [
    {
     "data": {
      "text/html": [
       "<div>\n",
       "<style scoped>\n",
       "    .dataframe tbody tr th:only-of-type {\n",
       "        vertical-align: middle;\n",
       "    }\n",
       "\n",
       "    .dataframe tbody tr th {\n",
       "        vertical-align: top;\n",
       "    }\n",
       "\n",
       "    .dataframe thead th {\n",
       "        text-align: right;\n",
       "    }\n",
       "</style>\n",
       "<table border=\"1\" class=\"dataframe\">\n",
       "  <thead>\n",
       "    <tr style=\"text-align: right;\">\n",
       "      <th></th>\n",
       "      <th>title</th>\n",
       "      <th>poster_path</th>\n",
       "      <th>tags</th>\n",
       "    </tr>\n",
       "  </thead>\n",
       "  <tbody>\n",
       "    <tr>\n",
       "      <th>0</th>\n",
       "      <td>Uri: The Surgical Strike</td>\n",
       "      <td>https://upload.wikimedia.org/wikipedia/en/thum...</td>\n",
       "      <td>[Action, Drama, War, Divided, over, five, chap...</td>\n",
       "    </tr>\n",
       "    <tr>\n",
       "      <th>1</th>\n",
       "      <td>Battalion 609</td>\n",
       "      <td>https://upload.wikimedia.org/wikipedia/commons...</td>\n",
       "      <td>[War, The, story, revolves, around, a, cricket...</td>\n",
       "    </tr>\n",
       "    <tr>\n",
       "      <th>2</th>\n",
       "      <td>The Accidental Prime Minister (film)</td>\n",
       "      <td>https://upload.wikimedia.org/wikipedia/en/thum...</td>\n",
       "      <td>[Biography, Drama, Based, on, the, memoir, by,...</td>\n",
       "    </tr>\n",
       "  </tbody>\n",
       "</table>\n",
       "</div>"
      ],
      "text/plain": [
       "                                  title  \\\n",
       "0              Uri: The Surgical Strike   \n",
       "1                         Battalion 609   \n",
       "2  The Accidental Prime Minister (film)   \n",
       "\n",
       "                                         poster_path  \\\n",
       "0  https://upload.wikimedia.org/wikipedia/en/thum...   \n",
       "1  https://upload.wikimedia.org/wikipedia/commons...   \n",
       "2  https://upload.wikimedia.org/wikipedia/en/thum...   \n",
       "\n",
       "                                                tags  \n",
       "0  [Action, Drama, War, Divided, over, five, chap...  \n",
       "1  [War, The, story, revolves, around, a, cricket...  \n",
       "2  [Biography, Drama, Based, on, the, memoir, by,...  "
      ]
     },
     "execution_count": 49,
     "metadata": {},
     "output_type": "execute_result"
    }
   ],
   "source": [
    "movies.head(3)"
   ]
  },
  {
   "cell_type": "code",
   "execution_count": 50,
   "id": "surrounded-swing",
   "metadata": {},
   "outputs": [],
   "source": [
    "movies['tags'] = movies['tags'].apply(lambda x: ' '.join(x))\n",
    "movies['tags'] = movies['tags'].apply(lambda x: x.lower())"
   ]
  },
  {
   "cell_type": "code",
   "execution_count": null,
   "id": "talented-middle",
   "metadata": {},
   "outputs": [],
   "source": []
  },
  {
   "cell_type": "code",
   "execution_count": 51,
   "id": "ignored-matthew",
   "metadata": {},
   "outputs": [
    {
     "data": {
      "text/html": [
       "<div>\n",
       "<style scoped>\n",
       "    .dataframe tbody tr th:only-of-type {\n",
       "        vertical-align: middle;\n",
       "    }\n",
       "\n",
       "    .dataframe tbody tr th {\n",
       "        vertical-align: top;\n",
       "    }\n",
       "\n",
       "    .dataframe thead th {\n",
       "        text-align: right;\n",
       "    }\n",
       "</style>\n",
       "<table border=\"1\" class=\"dataframe\">\n",
       "  <thead>\n",
       "    <tr style=\"text-align: right;\">\n",
       "      <th></th>\n",
       "      <th>title</th>\n",
       "      <th>poster_path</th>\n",
       "      <th>tags</th>\n",
       "    </tr>\n",
       "  </thead>\n",
       "  <tbody>\n",
       "    <tr>\n",
       "      <th>0</th>\n",
       "      <td>Uri: The Surgical Strike</td>\n",
       "      <td>https://upload.wikimedia.org/wikipedia/en/thum...</td>\n",
       "      <td>action drama war divided over five chapters th...</td>\n",
       "    </tr>\n",
       "    <tr>\n",
       "      <th>1</th>\n",
       "      <td>Battalion 609</td>\n",
       "      <td>https://upload.wikimedia.org/wikipedia/commons...</td>\n",
       "      <td>war the story revolves around a cricket match ...</td>\n",
       "    </tr>\n",
       "    <tr>\n",
       "      <th>2</th>\n",
       "      <td>The Accidental Prime Minister (film)</td>\n",
       "      <td>https://upload.wikimedia.org/wikipedia/en/thum...</td>\n",
       "      <td>biography drama based on the memoir by indian ...</td>\n",
       "    </tr>\n",
       "  </tbody>\n",
       "</table>\n",
       "</div>"
      ],
      "text/plain": [
       "                                  title  \\\n",
       "0              Uri: The Surgical Strike   \n",
       "1                         Battalion 609   \n",
       "2  The Accidental Prime Minister (film)   \n",
       "\n",
       "                                         poster_path  \\\n",
       "0  https://upload.wikimedia.org/wikipedia/en/thum...   \n",
       "1  https://upload.wikimedia.org/wikipedia/commons...   \n",
       "2  https://upload.wikimedia.org/wikipedia/en/thum...   \n",
       "\n",
       "                                                tags  \n",
       "0  action drama war divided over five chapters th...  \n",
       "1  war the story revolves around a cricket match ...  \n",
       "2  biography drama based on the memoir by indian ...  "
      ]
     },
     "execution_count": 51,
     "metadata": {},
     "output_type": "execute_result"
    }
   ],
   "source": [
    "movies.head(3)"
   ]
  },
  {
   "cell_type": "code",
   "execution_count": 52,
   "id": "adopted-slide",
   "metadata": {},
   "outputs": [
    {
     "data": {
      "text/plain": [
       "'war the story revolves around a cricket match between the indian army and the pakistan army gone wrong and narrates the tale of the soldiers of battalion 609 putting up a fight with taliban. after an attack on indian army that is battalion 609 near the loc the match which was to be played between india and pakistan is cancelled. anwar hussein a pakistani soldier who is very fond of cricket and was looking forward to the match throws a cricket bat at the other end of the loc and calls the indian army and indians a bunch of cowards. in anger the indian army throws a ball towards them. soon a verbal fight breaks between them which leads to the two teams deciding to play a cricket match. the losing team will take their post eighteen kilometres back. the story of battalion 609 revolves around a cricket match between the indian army and the pakistan army gone wrong and narrates the tale of the brave soldiers of battalion 609 putting up a fight with the mighty taliban. vickyahuja shoaibibrahim shrikantkamat elenakazan vishwaskini majorkishore jashnkohli rammyc.pandey manishsharma sparshsharma farnazshetty vikasshrivastav chandraprakashthakur brajeshtiwari '"
      ]
     },
     "execution_count": 52,
     "metadata": {},
     "output_type": "execute_result"
    }
   ],
   "source": [
    "movies['tags'][1]"
   ]
  },
  {
   "cell_type": "code",
   "execution_count": 53,
   "id": "loaded-nickname",
   "metadata": {},
   "outputs": [],
   "source": [
    "#Now we will apply stemming\n",
    "from nltk.stem.porter import PorterStemmer\n",
    "ps = PorterStemmer()"
   ]
  },
  {
   "cell_type": "code",
   "execution_count": 54,
   "id": "third-producer",
   "metadata": {},
   "outputs": [],
   "source": [
    "def stem(text):\n",
    "    L = []\n",
    "    for i in text.split():\n",
    "        L.append(ps.stem(i))\n",
    "    return ' '.join(L)"
   ]
  },
  {
   "cell_type": "code",
   "execution_count": 55,
   "id": "traditional-logic",
   "metadata": {},
   "outputs": [],
   "source": [
    "movies['tags'] = movies['tags'].apply(stem)"
   ]
  },
  {
   "cell_type": "code",
   "execution_count": 56,
   "id": "phantom-aruba",
   "metadata": {},
   "outputs": [
    {
     "data": {
      "text/plain": [
       "'war the stori revolv around a cricket match between the indian armi and the pakistan armi gone wrong and narrat the tale of the soldier of battalion 609 put up a fight with taliban. after an attack on indian armi that is battalion 609 near the loc the match which wa to be play between india and pakistan is cancelled. anwar hussein a pakistani soldier who is veri fond of cricket and wa look forward to the match throw a cricket bat at the other end of the loc and call the indian armi and indian a bunch of cowards. in anger the indian armi throw a ball toward them. soon a verbal fight break between them which lead to the two team decid to play a cricket match. the lose team will take their post eighteen kilometr back. the stori of battalion 609 revolv around a cricket match between the indian armi and the pakistan armi gone wrong and narrat the tale of the brave soldier of battalion 609 put up a fight with the mighti taliban. vickyahuja shoaibibrahim shrikantkamat elenakazan vishwaskini majorkishor jashnkohli rammyc.pandey manishsharma sparshsharma farnazshetti vikasshrivastav chandraprakashthakur brajeshtiwari'"
      ]
     },
     "execution_count": 56,
     "metadata": {},
     "output_type": "execute_result"
    }
   ],
   "source": [
    "movies['tags'][1]\n",
    "\n",
    "# We can see that stemming is sucessfully applied "
   ]
  },
  {
   "cell_type": "code",
   "execution_count": 57,
   "id": "affecting-compromise",
   "metadata": {},
   "outputs": [
    {
     "data": {
      "text/plain": [
       "(4127, 3)"
      ]
     },
     "execution_count": 57,
     "metadata": {},
     "output_type": "execute_result"
    }
   ],
   "source": [
    "movies.shape"
   ]
  },
  {
   "cell_type": "code",
   "execution_count": 58,
   "id": "creative-mistake",
   "metadata": {},
   "outputs": [],
   "source": [
    "#For converting text to vectors we will use very simple and basic technique called Bag of words (BOW)"
   ]
  },
  {
   "cell_type": "code",
   "execution_count": 59,
   "id": "understanding-speed",
   "metadata": {},
   "outputs": [],
   "source": [
    "from sklearn.feature_extraction.text import CountVectorizer\n",
    "\n",
    "cv = CountVectorizer(max_features = 8000 ,stop_words = 'english')"
   ]
  },
  {
   "cell_type": "code",
   "execution_count": 60,
   "id": "liked-knitting",
   "metadata": {},
   "outputs": [],
   "source": [
    "vectors = cv.fit_transform(movies['tags']).toarray()"
   ]
  },
  {
   "cell_type": "code",
   "execution_count": 61,
   "id": "equal-ladder",
   "metadata": {},
   "outputs": [
    {
     "data": {
      "text/plain": [
       "(4127, 8000)"
      ]
     },
     "execution_count": 61,
     "metadata": {},
     "output_type": "execute_result"
    }
   ],
   "source": [
    "vectors.shape"
   ]
  },
  {
   "cell_type": "code",
   "execution_count": null,
   "id": "acquired-flush",
   "metadata": {},
   "outputs": [],
   "source": []
  },
  {
   "cell_type": "code",
   "execution_count": 62,
   "id": "literary-pleasure",
   "metadata": {},
   "outputs": [],
   "source": [
    "#Here to find distance between vectors we will not used Eucledian distance instead we will used cosine_similarity\n",
    "\n",
    "from sklearn.metrics.pairwise import cosine_similarity\n",
    "\n",
    "similarity = cosine_similarity(vectors)"
   ]
  },
  {
   "cell_type": "code",
   "execution_count": 63,
   "id": "maritime-degree",
   "metadata": {},
   "outputs": [
    {
     "data": {
      "text/plain": [
       "(4127, 4127)"
      ]
     },
     "execution_count": 63,
     "metadata": {},
     "output_type": "execute_result"
    }
   ],
   "source": [
    "similarity.shape\n",
    "#Basically it gives similarity of each vector with all vectors including itself"
   ]
  },
  {
   "cell_type": "code",
   "execution_count": 64,
   "id": "rubber-peace",
   "metadata": {},
   "outputs": [
    {
     "data": {
      "text/plain": [
       "array([1.        , 0.33066045, 0.06666667, ..., 0.13855541, 0.00985808,\n",
       "       0.01112141])"
      ]
     },
     "execution_count": 64,
     "metadata": {},
     "output_type": "execute_result"
    }
   ],
   "source": [
    "similarity[0]"
   ]
  },
  {
   "cell_type": "code",
   "execution_count": 65,
   "id": "based-giant",
   "metadata": {},
   "outputs": [
    {
     "data": {
      "text/plain": [
       "[(1, 0.3306604496434072),\n",
       " (217, 0.3236694374850749),\n",
       " (166, 0.3016907622339736),\n",
       " (1480, 0.2999031977000387),\n",
       " (1527, 0.2710523708715754)]"
      ]
     },
     "execution_count": 65,
     "metadata": {},
     "output_type": "execute_result"
    }
   ],
   "source": [
    "sorted(list(enumerate(similarity[0])),reverse = True, key = lambda x:x[1])[1:6]"
   ]
  },
  {
   "cell_type": "code",
   "execution_count": 66,
   "id": "choice-journal",
   "metadata": {},
   "outputs": [
    {
     "data": {
      "text/plain": [
       "'Uri: The Surgical Strike'"
      ]
     },
     "execution_count": 66,
     "metadata": {},
     "output_type": "execute_result"
    }
   ],
   "source": [
    "movies.loc[0].title"
   ]
  },
  {
   "cell_type": "code",
   "execution_count": 67,
   "id": "japanese-arnold",
   "metadata": {},
   "outputs": [],
   "source": [
    "def recommend(movie):\n",
    "    \n",
    "    index = movies[movies['title'] == movie].index[0]\n",
    "    movie_list = sorted(list(enumerate(similarity[index])),reverse = True, key = lambda x:x[1])[1:6]\n",
    "    for i in movie_list:\n",
    "        print(movies.loc[i[0]].title)"
   ]
  },
  {
   "cell_type": "code",
   "execution_count": 68,
   "id": "approved-blackberry",
   "metadata": {},
   "outputs": [
    {
     "name": "stdout",
     "output_type": "stream",
     "text": [
      "Swarag Se Sunder\n",
      "Sau Din Saas Ke\n",
      "Laagi Nahi Chhute Ram\n",
      "Milan (1995 film)\n",
      "Woh Chokri\n"
     ]
    }
   ],
   "source": [
    "recommend('Baadshah (1999 film)')"
   ]
  },
  {
   "cell_type": "code",
   "execution_count": 69,
   "id": "criminal-paraguay",
   "metadata": {},
   "outputs": [],
   "source": [
    "import pickle\n",
    "pickle.dump(movies.to_dict(), open('movies_dict.pkl','wb'))\n",
    "pickle.dump(similarity , open('similarity.pkl','wb'))"
   ]
  },
  {
   "cell_type": "code",
   "execution_count": null,
   "id": "convinced-reward",
   "metadata": {},
   "outputs": [],
   "source": []
  },
  {
   "cell_type": "code",
   "execution_count": null,
   "id": "sound-morning",
   "metadata": {},
   "outputs": [],
   "source": []
  },
  {
   "cell_type": "code",
   "execution_count": null,
   "id": "frequent-pencil",
   "metadata": {},
   "outputs": [],
   "source": []
  },
  {
   "cell_type": "code",
   "execution_count": null,
   "id": "fatal-temple",
   "metadata": {},
   "outputs": [],
   "source": []
  },
  {
   "cell_type": "code",
   "execution_count": null,
   "id": "mobile-salmon",
   "metadata": {},
   "outputs": [],
   "source": []
  },
  {
   "cell_type": "code",
   "execution_count": null,
   "id": "apart-basin",
   "metadata": {},
   "outputs": [],
   "source": []
  },
  {
   "cell_type": "code",
   "execution_count": null,
   "id": "adult-german",
   "metadata": {},
   "outputs": [],
   "source": []
  },
  {
   "cell_type": "code",
   "execution_count": null,
   "id": "scientific-period",
   "metadata": {},
   "outputs": [],
   "source": []
  },
  {
   "cell_type": "code",
   "execution_count": null,
   "id": "numerous-hawaii",
   "metadata": {},
   "outputs": [],
   "source": []
  },
  {
   "cell_type": "code",
   "execution_count": null,
   "id": "central-necessity",
   "metadata": {},
   "outputs": [],
   "source": []
  }
 ],
 "metadata": {
  "kernelspec": {
   "display_name": "Python 3",
   "language": "python",
   "name": "python3"
  },
  "language_info": {
   "codemirror_mode": {
    "name": "ipython",
    "version": 3
   },
   "file_extension": ".py",
   "mimetype": "text/x-python",
   "name": "python",
   "nbconvert_exporter": "python",
   "pygments_lexer": "ipython3",
   "version": "3.9.0"
  }
 },
 "nbformat": 4,
 "nbformat_minor": 5
}
